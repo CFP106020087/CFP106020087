{
 "cells": [
  {
   "cell_type": "code",
   "execution_count": 1,
   "metadata": {
    "scrolled": true
   },
   "outputs": [
    {
     "name": "stdout",
     "output_type": "stream",
     "text": [
      "number of student10\n",
      "salary10\n",
      "number of games10\n",
      "budget10\n",
      "[10. 10. 10. 10. 10. 10. 10. 10. 10. 10.]\n"
     ]
    },
    {
     "ename": "IndexError",
     "evalue": "list index out of range",
     "output_type": "error",
     "traceback": [
      "\u001b[0;31m---------------------------------------------------------------------------\u001b[0m",
      "\u001b[0;31mIndexError\u001b[0m                                Traceback (most recent call last)",
      "\u001b[0;32m<ipython-input-1-d7c3c835e3f7>\u001b[0m in \u001b[0;36m<module>\u001b[0;34m\u001b[0m\n\u001b[1;32m     20\u001b[0m \u001b[0;34m\u001b[0m\u001b[0m\n\u001b[1;32m     21\u001b[0m         \u001b[0;32mcontinue\u001b[0m\u001b[0;34m\u001b[0m\u001b[0;34m\u001b[0m\u001b[0m\n\u001b[0;32m---> 22\u001b[0;31m     \u001b[0;32melif\u001b[0m \u001b[0ma\u001b[0m\u001b[0;34m[\u001b[0m\u001b[0my\u001b[0m\u001b[0;34m[\u001b[0m\u001b[0;36m1\u001b[0m\u001b[0;34m]\u001b[0m\u001b[0;34m]\u001b[0m\u001b[0;34m<\u001b[0m\u001b[0mdm\u001b[0m \u001b[0;34m:\u001b[0m\u001b[0;34m\u001b[0m\u001b[0;34m\u001b[0m\u001b[0m\n\u001b[0m\u001b[1;32m     23\u001b[0m \u001b[0;34m\u001b[0m\u001b[0m\n\u001b[1;32m     24\u001b[0m         \u001b[0;32mcontinue\u001b[0m\u001b[0;34m\u001b[0m\u001b[0;34m\u001b[0m\u001b[0m\n",
      "\u001b[0;31mIndexError\u001b[0m: list index out of range"
     ]
    }
   ],
   "source": [
    "import numpy as np\n",
    "import matplotlib.pyplot as plt\n",
    "import random as r\n",
    "\n",
    "#version (a)\n",
    "\n",
    "n=int(input(\"number of student\"))\n",
    "m=float(input(\"salary\"))\n",
    "k=int(input(\"number of games\"))\n",
    "dm=float(input(\"budget\"))\n",
    "a=np.repeat(m,n)\n",
    "b=list(a)\n",
    "x=list(range(0,n))\n",
    "y=r.choices(x,weights=None,cum_weights=None, k=1)\n",
    "print(a)\n",
    "i=1\n",
    "while i<=k :\n",
    "    y=r.sample(x,2)\n",
    "    if a[y[0]]<dm :\n",
    "        \n",
    "        continue\n",
    "    elif a[y[1]]<dm :\n",
    "        \n",
    "        continue\n",
    "    else :\n",
    "     l=r.sample(x,2)\n",
    "    if \n",
    "     a[y[0]]=a[y[0]]-dm\n",
    "     a[y[1]]=a[y[1]]+dm\n",
    "    i+=1\n",
    "        \n",
    "    print(y)\n",
    "    print(a)\n",
    "    \n",
    "    \n",
    "    \n",
    "plt.xlabel(\"student's budget\")\n",
    "plt.ylabel(\"number of students\")\n",
    "plt.hist(a,bins=100)\n",
    "plt.show()\n",
    "\n",
    "\n",
    "\n"
   ]
  },
  {
   "cell_type": "code",
   "execution_count": 3,
   "metadata": {
    "scrolled": true
   },
   "outputs": [
    {
     "name": "stdout",
     "output_type": "stream",
     "text": [
      "number of student10\n",
      "salary10\n",
      "number of games10\n",
      "budget10\n",
      "[10. 10. 10. 10. 10. 10. 10. 10. 10. 10.]\n",
      "[7, 9]\n",
      "[10. 10. 10. 10. 10. 10. 10.  0. 10. 20.]\n",
      "[9, 4]\n",
      "[10. 10. 10. 10. 20. 10. 10.  0. 10. 10.]\n",
      "[7, 3]\n",
      "[ 10.  10.  10.  20.  20.  10.  10. -10.  10.  10.]\n",
      "[4, 6]\n",
      "[ 10.  10.  10.  20.  10.  10.  20. -10.  10.  10.]\n",
      "[0, 1]\n",
      "[  0.  20.  10.  20.  10.  10.  20. -10.  10.  10.]\n",
      "[4, 5]\n",
      "[  0.  20.  10.  20.   0.  20.  20. -10.  10.  10.]\n",
      "[0, 9]\n",
      "[-10.  20.  10.  20.   0.  20.  20. -10.  10.  20.]\n",
      "[3, 9]\n",
      "[-10.  20.  10.  10.   0.  20.  20. -10.  10.  30.]\n",
      "[6, 2]\n",
      "[-10.  20.  20.  10.   0.  20.  10. -10.  10.  30.]\n",
      "[5, 2]\n",
      "[-10.  20.  30.  10.   0.  10.  10. -10.  10.  30.]\n"
     ]
    },
    {
     "data": {
      "image/png": "[encoded data removed]",
      "text/plain": [
       "<Figure size 432x288 with 1 Axes>"
      ]
     },
     "metadata": {
      "needs_background": "light"
     },
     "output_type": "display_data"
    }
   ],
   "source": [
    "import numpy as np \n",
    "import matplotlib.pyplot as plt \n",
    "import random as r\n",
    "\n",
    "#version(b)\n",
    "\n",
    "n=int(input(\"number of student\")) \n",
    "m=float(input(\"salary\")) \n",
    "k=int(input(\"number of games\")) \n",
    "dm=float(input(\"budget\")) \n",
    "a=np.repeat(m,n) \n",
    "x=list(range(0,n)) \n",
    "y=r.choices(x,weights=None,cum_weights=None, k=1) \n",
    "print(a) \n",
    "i=1 \n",
    "for i in range(0,k) : \n",
    "    y=r.sample(x,2) \n",
    "    a[y[0]]=a[y[0]]-dm \n",
    "    a[y[1]]=a[y[1]]+dm \n",
    "    print(y) \n",
    "    print(a)\n",
    "\n",
    "plt.xlabel(\"student's budget\") \n",
    "plt.ylabel(\"number of students\") \n",
    "plt.hist(a,bins=100) \n",
    "plt.show()"
   ]
  },
  {
   "cell_type": "code",
   "execution_count": null,
   "metadata": {},
   "outputs": [],
   "source": []
  }
 ],
 "metadata": {
  "kernelspec": {
   "display_name": "Python 3",
   "language": "python",
   "name": "python3"
  },
  "language_info": {
   "codemirror_mode": {
    "name": "ipython",
    "version": 3
   },
   "file_extension": ".py",
   "mimetype": "text/x-python",
   "name": "python",
   "nbconvert_exporter": "python",
   "pygments_lexer": "ipython3",
   "version": "3.7.1"
  }
 },
 "nbformat": 4,
 "nbformat_minor": 2
}
